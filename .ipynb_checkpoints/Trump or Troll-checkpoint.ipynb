{
 "cells": [
  {
   "cell_type": "markdown",
   "metadata": {},
   "source": [
    "# Trump or Troll\n",
    "## Final Project: Shivam Jindal (sj2546) and Mayank Vanjani (mv1506)\n",
    "\n",
    "Classify tweets sent by President Trump versus Russian trolls"
   ]
  },
  {
   "cell_type": "code",
   "execution_count": null,
   "metadata": {},
   "outputs": [],
   "source": []
  },
  {
   "cell_type": "code",
   "execution_count": 6,
   "metadata": {},
   "outputs": [],
   "source": [
    "import pandas as pd\n",
    "import numpy as np\n",
    "import matplotlib.pyplot as plt\n",
    "from sklearn.feature_extraction.text import "
   ]
  },
  {
   "cell_type": "code",
   "execution_count": 7,
   "metadata": {},
   "outputs": [],
   "source": [
    "\n",
    "df = pd.read_excel(\"TrumpTwitterAll.xlsx\")\n",
    "df2 = pd.read_csv(\"IRAhandle_tweets_1.txt\")\n"
   ]
  },
  {
   "cell_type": "code",
   "execution_count": null,
   "metadata": {},
   "outputs": [],
   "source": []
  },
  {
   "cell_type": "markdown",
   "metadata": {},
   "source": [
    "trump_tweets_df is a dataframe containing all of the trump tweets from our dataset  \n",
    "troll_tweets_df is a dataframe containing all of the troll tweets from our dataset"
   ]
  },
  {
   "cell_type": "code",
   "execution_count": 3,
   "metadata": {},
   "outputs": [
    {
     "name": "stdout",
     "output_type": "stream",
     "text": [
      "(30078, 5)\n",
      "(243891, 21)\n",
      "Index(['Date', 'Time', 'Tweet', 'Client', 'Client Simplified'], dtype='object')\n",
      "Index(['external_author_id', 'author', 'content', 'region', 'language',\n",
      "       'publish_date', 'harvested_date', 'following', 'followers', 'updates',\n",
      "       'post_type', 'account_type', 'retweet', 'account_category',\n",
      "       'new_june_2018', 'alt_external_id', 'tweet_id', 'article_url',\n",
      "       'tco1_step1', 'tco2_step1', 'tco3_step1'],\n",
      "      dtype='object')\n"
     ]
    }
   ],
   "source": [
    "#df.head(5)\n",
    "print(df.shape)\n",
    "print(df2.shape)\n",
    "print(df.columns)\n",
    "print(df2.columns)\n",
    "trump_tweets_df = df[\"Tweet\"]\n",
    "troll_tweets_df = df2[\"content\"]"
   ]
  },
  {
   "cell_type": "code",
   "execution_count": 4,
   "metadata": {},
   "outputs": [
    {
     "data": {
      "text/plain": [
       "0    If the press would cover me accurately & honor...\n",
       "1    I am thrilled to nominate Dr. @RealBenCarson a...\n",
       "2    their country (the U.S. doesn't tax them) or t...\n",
       "3    Did China ask us if it was OK to devalue their...\n",
       "4    .@FoxNews will be re-running \"Objectified: Don...\n",
       "Name: Tweet, dtype: object"
      ]
     },
     "execution_count": 4,
     "metadata": {},
     "output_type": "execute_result"
    }
   ],
   "source": [
    "trump_tweets_df.head(5)"
   ]
  },
  {
   "cell_type": "code",
   "execution_count": 5,
   "metadata": {},
   "outputs": [
    {
     "data": {
      "text/plain": [
       "0    \"We have a sitting Democrat US Senator on tria...\n",
       "1    Marshawn Lynch arrives to game in anti-Trump s...\n",
       "2    Daughter of fallen Navy Sailor delivers powerf...\n",
       "3    JUST IN: President Trump dedicates Presidents ...\n",
       "4    19,000 RESPECTING our National Anthem! #StandF...\n",
       "Name: content, dtype: object"
      ]
     },
     "execution_count": 5,
     "metadata": {},
     "output_type": "execute_result"
    }
   ],
   "source": [
    "troll_tweets_df.head(5)"
   ]
  },
  {
   "cell_type": "code",
   "execution_count": null,
   "metadata": {},
   "outputs": [],
   "source": []
  }
 ],
 "metadata": {
  "kernelspec": {
   "display_name": "Python 3",
   "language": "python",
   "name": "python3"
  },
  "language_info": {
   "codemirror_mode": {
    "name": "ipython",
    "version": 3
   },
   "file_extension": ".py",
   "mimetype": "text/x-python",
   "name": "python",
   "nbconvert_exporter": "python",
   "pygments_lexer": "ipython3",
   "version": "3.5.6"
  }
 },
 "nbformat": 4,
 "nbformat_minor": 2
}
